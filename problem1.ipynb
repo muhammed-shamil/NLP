{
  "nbformat": 4,
  "nbformat_minor": 0,
  "metadata": {
    "colab": {
      "provenance": [],
      "mount_file_id": "1f0mUDa-OGZs16TiQu-h8Hziw2euYixrd",
      "authorship_tag": "ABX9TyOBopL8PkKpsaCo6toNvcOC",
      "include_colab_link": true
    },
    "kernelspec": {
      "name": "python3",
      "display_name": "Python 3"
    },
    "language_info": {
      "name": "python"
    }
  },
  "cells": [
    {
      "cell_type": "markdown",
      "metadata": {
        "id": "view-in-github",
        "colab_type": "text"
      },
      "source": [
        "<a href=\"https://colab.research.google.com/github/muhammed-shamil/NLP/blob/main/problem1.ipynb\" target=\"_parent\"><img src=\"https://colab.research.google.com/assets/colab-badge.svg\" alt=\"Open In Colab\"/></a>"
      ]
    },
    {
      "cell_type": "code",
      "source": [
        "import pandas as pd"
      ],
      "metadata": {
        "id": "i7StLSu_-RwR"
      },
      "execution_count": 1,
      "outputs": []
    },
    {
      "cell_type": "code",
      "source": [
        "df = pd.read_csv('/content/drive/MyDrive/data science /Machine Learning /NLP/sentiment_tweets3 (2).csv')"
      ],
      "metadata": {
        "id": "7159cW9l-RcN"
      },
      "execution_count": 2,
      "outputs": []
    },
    {
      "cell_type": "code",
      "source": [
        "df.head()"
      ],
      "metadata": {
        "colab": {
          "base_uri": "https://localhost:8080/",
          "height": 206
        },
        "id": "OkDa7-3j-aXS",
        "outputId": "da39587e-4be7-4734-bf9a-9bc326ecca52"
      },
      "execution_count": 3,
      "outputs": [
        {
          "output_type": "execute_result",
          "data": {
            "text/plain": [
              "   Index                                 message to examine  \\\n",
              "0    106  just had a real good moment. i missssssssss hi...   \n",
              "1    217         is reading manga  http://plurk.com/p/mzp1e   \n",
              "2    220  @comeagainjen http://twitpic.com/2y2lx - http:...   \n",
              "3    288  @lapcat Need to send 'em to my accountant tomo...   \n",
              "4    540      ADD ME ON MYSPACE!!!  myspace.com/LookThunder   \n",
              "\n",
              "   label (depression result)  \n",
              "0                          0  \n",
              "1                          0  \n",
              "2                          0  \n",
              "3                          0  \n",
              "4                          0  "
            ],
            "text/html": [
              "\n",
              "  <div id=\"df-693f4421-aa26-4255-8a83-962ef6ffff57\" class=\"colab-df-container\">\n",
              "    <div>\n",
              "<style scoped>\n",
              "    .dataframe tbody tr th:only-of-type {\n",
              "        vertical-align: middle;\n",
              "    }\n",
              "\n",
              "    .dataframe tbody tr th {\n",
              "        vertical-align: top;\n",
              "    }\n",
              "\n",
              "    .dataframe thead th {\n",
              "        text-align: right;\n",
              "    }\n",
              "</style>\n",
              "<table border=\"1\" class=\"dataframe\">\n",
              "  <thead>\n",
              "    <tr style=\"text-align: right;\">\n",
              "      <th></th>\n",
              "      <th>Index</th>\n",
              "      <th>message to examine</th>\n",
              "      <th>label (depression result)</th>\n",
              "    </tr>\n",
              "  </thead>\n",
              "  <tbody>\n",
              "    <tr>\n",
              "      <th>0</th>\n",
              "      <td>106</td>\n",
              "      <td>just had a real good moment. i missssssssss hi...</td>\n",
              "      <td>0</td>\n",
              "    </tr>\n",
              "    <tr>\n",
              "      <th>1</th>\n",
              "      <td>217</td>\n",
              "      <td>is reading manga  http://plurk.com/p/mzp1e</td>\n",
              "      <td>0</td>\n",
              "    </tr>\n",
              "    <tr>\n",
              "      <th>2</th>\n",
              "      <td>220</td>\n",
              "      <td>@comeagainjen http://twitpic.com/2y2lx - http:...</td>\n",
              "      <td>0</td>\n",
              "    </tr>\n",
              "    <tr>\n",
              "      <th>3</th>\n",
              "      <td>288</td>\n",
              "      <td>@lapcat Need to send 'em to my accountant tomo...</td>\n",
              "      <td>0</td>\n",
              "    </tr>\n",
              "    <tr>\n",
              "      <th>4</th>\n",
              "      <td>540</td>\n",
              "      <td>ADD ME ON MYSPACE!!!  myspace.com/LookThunder</td>\n",
              "      <td>0</td>\n",
              "    </tr>\n",
              "  </tbody>\n",
              "</table>\n",
              "</div>\n",
              "    <div class=\"colab-df-buttons\">\n",
              "\n",
              "  <div class=\"colab-df-container\">\n",
              "    <button class=\"colab-df-convert\" onclick=\"convertToInteractive('df-693f4421-aa26-4255-8a83-962ef6ffff57')\"\n",
              "            title=\"Convert this dataframe to an interactive table.\"\n",
              "            style=\"display:none;\">\n",
              "\n",
              "  <svg xmlns=\"http://www.w3.org/2000/svg\" height=\"24px\" viewBox=\"0 -960 960 960\">\n",
              "    <path d=\"M120-120v-720h720v720H120Zm60-500h600v-160H180v160Zm220 220h160v-160H400v160Zm0 220h160v-160H400v160ZM180-400h160v-160H180v160Zm440 0h160v-160H620v160ZM180-180h160v-160H180v160Zm440 0h160v-160H620v160Z\"/>\n",
              "  </svg>\n",
              "    </button>\n",
              "\n",
              "  <style>\n",
              "    .colab-df-container {\n",
              "      display:flex;\n",
              "      gap: 12px;\n",
              "    }\n",
              "\n",
              "    .colab-df-convert {\n",
              "      background-color: #E8F0FE;\n",
              "      border: none;\n",
              "      border-radius: 50%;\n",
              "      cursor: pointer;\n",
              "      display: none;\n",
              "      fill: #1967D2;\n",
              "      height: 32px;\n",
              "      padding: 0 0 0 0;\n",
              "      width: 32px;\n",
              "    }\n",
              "\n",
              "    .colab-df-convert:hover {\n",
              "      background-color: #E2EBFA;\n",
              "      box-shadow: 0px 1px 2px rgba(60, 64, 67, 0.3), 0px 1px 3px 1px rgba(60, 64, 67, 0.15);\n",
              "      fill: #174EA6;\n",
              "    }\n",
              "\n",
              "    .colab-df-buttons div {\n",
              "      margin-bottom: 4px;\n",
              "    }\n",
              "\n",
              "    [theme=dark] .colab-df-convert {\n",
              "      background-color: #3B4455;\n",
              "      fill: #D2E3FC;\n",
              "    }\n",
              "\n",
              "    [theme=dark] .colab-df-convert:hover {\n",
              "      background-color: #434B5C;\n",
              "      box-shadow: 0px 1px 3px 1px rgba(0, 0, 0, 0.15);\n",
              "      filter: drop-shadow(0px 1px 2px rgba(0, 0, 0, 0.3));\n",
              "      fill: #FFFFFF;\n",
              "    }\n",
              "  </style>\n",
              "\n",
              "    <script>\n",
              "      const buttonEl =\n",
              "        document.querySelector('#df-693f4421-aa26-4255-8a83-962ef6ffff57 button.colab-df-convert');\n",
              "      buttonEl.style.display =\n",
              "        google.colab.kernel.accessAllowed ? 'block' : 'none';\n",
              "\n",
              "      async function convertToInteractive(key) {\n",
              "        const element = document.querySelector('#df-693f4421-aa26-4255-8a83-962ef6ffff57');\n",
              "        const dataTable =\n",
              "          await google.colab.kernel.invokeFunction('convertToInteractive',\n",
              "                                                    [key], {});\n",
              "        if (!dataTable) return;\n",
              "\n",
              "        const docLinkHtml = 'Like what you see? Visit the ' +\n",
              "          '<a target=\"_blank\" href=https://colab.research.google.com/notebooks/data_table.ipynb>data table notebook</a>'\n",
              "          + ' to learn more about interactive tables.';\n",
              "        element.innerHTML = '';\n",
              "        dataTable['output_type'] = 'display_data';\n",
              "        await google.colab.output.renderOutput(dataTable, element);\n",
              "        const docLink = document.createElement('div');\n",
              "        docLink.innerHTML = docLinkHtml;\n",
              "        element.appendChild(docLink);\n",
              "      }\n",
              "    </script>\n",
              "  </div>\n",
              "\n",
              "\n",
              "<div id=\"df-64ea59a9-a335-4773-8e2a-f35760fd6669\">\n",
              "  <button class=\"colab-df-quickchart\" onclick=\"quickchart('df-64ea59a9-a335-4773-8e2a-f35760fd6669')\"\n",
              "            title=\"Suggest charts\"\n",
              "            style=\"display:none;\">\n",
              "\n",
              "<svg xmlns=\"http://www.w3.org/2000/svg\" height=\"24px\"viewBox=\"0 0 24 24\"\n",
              "     width=\"24px\">\n",
              "    <g>\n",
              "        <path d=\"M19 3H5c-1.1 0-2 .9-2 2v14c0 1.1.9 2 2 2h14c1.1 0 2-.9 2-2V5c0-1.1-.9-2-2-2zM9 17H7v-7h2v7zm4 0h-2V7h2v10zm4 0h-2v-4h2v4z\"/>\n",
              "    </g>\n",
              "</svg>\n",
              "  </button>\n",
              "\n",
              "<style>\n",
              "  .colab-df-quickchart {\n",
              "      --bg-color: #E8F0FE;\n",
              "      --fill-color: #1967D2;\n",
              "      --hover-bg-color: #E2EBFA;\n",
              "      --hover-fill-color: #174EA6;\n",
              "      --disabled-fill-color: #AAA;\n",
              "      --disabled-bg-color: #DDD;\n",
              "  }\n",
              "\n",
              "  [theme=dark] .colab-df-quickchart {\n",
              "      --bg-color: #3B4455;\n",
              "      --fill-color: #D2E3FC;\n",
              "      --hover-bg-color: #434B5C;\n",
              "      --hover-fill-color: #FFFFFF;\n",
              "      --disabled-bg-color: #3B4455;\n",
              "      --disabled-fill-color: #666;\n",
              "  }\n",
              "\n",
              "  .colab-df-quickchart {\n",
              "    background-color: var(--bg-color);\n",
              "    border: none;\n",
              "    border-radius: 50%;\n",
              "    cursor: pointer;\n",
              "    display: none;\n",
              "    fill: var(--fill-color);\n",
              "    height: 32px;\n",
              "    padding: 0;\n",
              "    width: 32px;\n",
              "  }\n",
              "\n",
              "  .colab-df-quickchart:hover {\n",
              "    background-color: var(--hover-bg-color);\n",
              "    box-shadow: 0 1px 2px rgba(60, 64, 67, 0.3), 0 1px 3px 1px rgba(60, 64, 67, 0.15);\n",
              "    fill: var(--button-hover-fill-color);\n",
              "  }\n",
              "\n",
              "  .colab-df-quickchart-complete:disabled,\n",
              "  .colab-df-quickchart-complete:disabled:hover {\n",
              "    background-color: var(--disabled-bg-color);\n",
              "    fill: var(--disabled-fill-color);\n",
              "    box-shadow: none;\n",
              "  }\n",
              "\n",
              "  .colab-df-spinner {\n",
              "    border: 2px solid var(--fill-color);\n",
              "    border-color: transparent;\n",
              "    border-bottom-color: var(--fill-color);\n",
              "    animation:\n",
              "      spin 1s steps(1) infinite;\n",
              "  }\n",
              "\n",
              "  @keyframes spin {\n",
              "    0% {\n",
              "      border-color: transparent;\n",
              "      border-bottom-color: var(--fill-color);\n",
              "      border-left-color: var(--fill-color);\n",
              "    }\n",
              "    20% {\n",
              "      border-color: transparent;\n",
              "      border-left-color: var(--fill-color);\n",
              "      border-top-color: var(--fill-color);\n",
              "    }\n",
              "    30% {\n",
              "      border-color: transparent;\n",
              "      border-left-color: var(--fill-color);\n",
              "      border-top-color: var(--fill-color);\n",
              "      border-right-color: var(--fill-color);\n",
              "    }\n",
              "    40% {\n",
              "      border-color: transparent;\n",
              "      border-right-color: var(--fill-color);\n",
              "      border-top-color: var(--fill-color);\n",
              "    }\n",
              "    60% {\n",
              "      border-color: transparent;\n",
              "      border-right-color: var(--fill-color);\n",
              "    }\n",
              "    80% {\n",
              "      border-color: transparent;\n",
              "      border-right-color: var(--fill-color);\n",
              "      border-bottom-color: var(--fill-color);\n",
              "    }\n",
              "    90% {\n",
              "      border-color: transparent;\n",
              "      border-bottom-color: var(--fill-color);\n",
              "    }\n",
              "  }\n",
              "</style>\n",
              "\n",
              "  <script>\n",
              "    async function quickchart(key) {\n",
              "      const quickchartButtonEl =\n",
              "        document.querySelector('#' + key + ' button');\n",
              "      quickchartButtonEl.disabled = true;  // To prevent multiple clicks.\n",
              "      quickchartButtonEl.classList.add('colab-df-spinner');\n",
              "      try {\n",
              "        const charts = await google.colab.kernel.invokeFunction(\n",
              "            'suggestCharts', [key], {});\n",
              "      } catch (error) {\n",
              "        console.error('Error during call to suggestCharts:', error);\n",
              "      }\n",
              "      quickchartButtonEl.classList.remove('colab-df-spinner');\n",
              "      quickchartButtonEl.classList.add('colab-df-quickchart-complete');\n",
              "    }\n",
              "    (() => {\n",
              "      let quickchartButtonEl =\n",
              "        document.querySelector('#df-64ea59a9-a335-4773-8e2a-f35760fd6669 button');\n",
              "      quickchartButtonEl.style.display =\n",
              "        google.colab.kernel.accessAllowed ? 'block' : 'none';\n",
              "    })();\n",
              "  </script>\n",
              "</div>\n",
              "    </div>\n",
              "  </div>\n"
            ]
          },
          "metadata": {},
          "execution_count": 3
        }
      ]
    },
    {
      "cell_type": "code",
      "source": [
        "df.info()"
      ],
      "metadata": {
        "colab": {
          "base_uri": "https://localhost:8080/"
        },
        "id": "bmUxJN_08DP3",
        "outputId": "611d2747-8ec3-4183-9f17-6d5a58db8ebb"
      },
      "execution_count": 4,
      "outputs": [
        {
          "output_type": "stream",
          "name": "stdout",
          "text": [
            "<class 'pandas.core.frame.DataFrame'>\n",
            "RangeIndex: 10314 entries, 0 to 10313\n",
            "Data columns (total 3 columns):\n",
            " #   Column                     Non-Null Count  Dtype \n",
            "---  ------                     --------------  ----- \n",
            " 0   Index                      10314 non-null  int64 \n",
            " 1   message to examine         10314 non-null  object\n",
            " 2   label (depression result)  10314 non-null  int64 \n",
            "dtypes: int64(2), object(1)\n",
            "memory usage: 241.9+ KB\n"
          ]
        }
      ]
    },
    {
      "cell_type": "code",
      "execution_count": 5,
      "metadata": {
        "colab": {
          "base_uri": "https://localhost:8080/"
        },
        "id": "wVbjgNAR609e",
        "outputId": "76699f6c-d61a-42b8-b8df-eeb188508f8f"
      },
      "outputs": [
        {
          "output_type": "execute_result",
          "data": {
            "text/plain": [
              "(10314, 3)"
            ]
          },
          "metadata": {},
          "execution_count": 5
        }
      ],
      "source": [
        "df.shape"
      ]
    },
    {
      "cell_type": "code",
      "source": [
        "df.columns"
      ],
      "metadata": {
        "colab": {
          "base_uri": "https://localhost:8080/"
        },
        "id": "kxbDWZBo65PO",
        "outputId": "2cef847a-3c6b-4fd9-a86c-41c549da1e92"
      },
      "execution_count": 6,
      "outputs": [
        {
          "output_type": "execute_result",
          "data": {
            "text/plain": [
              "Index(['Index', 'message to examine', 'label (depression result)'], dtype='object')"
            ]
          },
          "metadata": {},
          "execution_count": 6
        }
      ]
    },
    {
      "cell_type": "code",
      "source": [
        "text = df['message to examine']"
      ],
      "metadata": {
        "id": "CSwHrVdy67_h"
      },
      "execution_count": 7,
      "outputs": []
    },
    {
      "cell_type": "code",
      "source": [
        "from nltk import TweetTokenizer\n",
        "tk = TweetTokenizer()\n",
        "\n",
        "text = text.apply(lambda x:tk.tokenize(x)).apply(lambda x:\" \".join(x))\n",
        "\n",
        "text"
      ],
      "metadata": {
        "colab": {
          "base_uri": "https://localhost:8080/"
        },
        "id": "0u4Vn7wT7DOR",
        "outputId": "6b3aba35-7c22-4f20-b182-9177733b772f"
      },
      "execution_count": 8,
      "outputs": [
        {
          "output_type": "execute_result",
          "data": {
            "text/plain": [
              "0        just had a real good moment . i missssssssss h...\n",
              "1                is reading manga http://plurk.com/p/mzp1e\n",
              "2        @comeagainjen http://twitpic.com/2y2lx - http:...\n",
              "3        @lapcat Need to send ' em to my accountant tom...\n",
              "4          ADD ME ON MYSPACE ! ! ! myspace.com/LookThunder\n",
              "                               ...                        \n",
              "10309    No Depression by G Herbo is my mood from now o...\n",
              "10310    What do you do when depression succumbs the br...\n",
              "10311    Ketamine Nasal Spray Shows Promise Against Dep...\n",
              "10312    dont mistake a bad day with depression ! every...\n",
              "10313                                                    0\n",
              "Name: message to examine, Length: 10314, dtype: object"
            ]
          },
          "metadata": {},
          "execution_count": 8
        }
      ]
    },
    {
      "cell_type": "code",
      "source": [
        "text = text.str.replace('[^a-zA-Z0-9]+',' ')\n",
        "\n",
        "text"
      ],
      "metadata": {
        "colab": {
          "base_uri": "https://localhost:8080/"
        },
        "id": "6PJz2BRI8GGB",
        "outputId": "d0679087-aa74-4be3-a18f-95e59a347811"
      },
      "execution_count": 9,
      "outputs": [
        {
          "output_type": "stream",
          "name": "stderr",
          "text": [
            "<ipython-input-9-504f40fe8424>:1: FutureWarning: The default value of regex will change from True to False in a future version.\n",
            "  text = text.str.replace('[^a-zA-Z0-9]+',' ')\n"
          ]
        },
        {
          "output_type": "execute_result",
          "data": {
            "text/plain": [
              "0        just had a real good moment i missssssssss him...\n",
              "1                  is reading manga http plurk com p mzp1e\n",
              "2         comeagainjen http twitpic com 2y2lx http www ...\n",
              "3         lapcat Need to send em to my accountant tomor...\n",
              "4                ADD ME ON MYSPACE myspace com LookThunder\n",
              "                               ...                        \n",
              "10309    No Depression by G Herbo is my mood from now o...\n",
              "10310    What do you do when depression succumbs the br...\n",
              "10311    Ketamine Nasal Spray Shows Promise Against Dep...\n",
              "10312    dont mistake a bad day with depression everyon...\n",
              "10313                                                    0\n",
              "Name: message to examine, Length: 10314, dtype: object"
            ]
          },
          "metadata": {},
          "execution_count": 9
        }
      ]
    },
    {
      "cell_type": "code",
      "source": [
        "import nltk\n",
        "nltk.download('punkt')"
      ],
      "metadata": {
        "colab": {
          "base_uri": "https://localhost:8080/"
        },
        "id": "0QZY5guU9mHj",
        "outputId": "5ceb846f-6b4f-45af-eeba-3fdbdcf95423"
      },
      "execution_count": 10,
      "outputs": [
        {
          "output_type": "stream",
          "name": "stderr",
          "text": [
            "[nltk_data] Downloading package punkt to /root/nltk_data...\n",
            "[nltk_data]   Unzipping tokenizers/punkt.zip.\n"
          ]
        },
        {
          "output_type": "execute_result",
          "data": {
            "text/plain": [
              "True"
            ]
          },
          "metadata": {},
          "execution_count": 10
        }
      ]
    },
    {
      "cell_type": "code",
      "source": [
        "from nltk.tokenize import word_tokenize\n",
        "text = text.apply(lambda x : ' '.join([w for w in word_tokenize(x) if len(w)>=3]))"
      ],
      "metadata": {
        "id": "0f4015aN9yCz"
      },
      "execution_count": 11,
      "outputs": []
    },
    {
      "cell_type": "code",
      "source": [
        "text"
      ],
      "metadata": {
        "colab": {
          "base_uri": "https://localhost:8080/"
        },
        "id": "IK8kZY5k-54u",
        "outputId": "5c310b61-8350-4332-d25d-7ac8995091aa"
      },
      "execution_count": 12,
      "outputs": [
        {
          "output_type": "execute_result",
          "data": {
            "text/plain": [
              "0          just had real good moment missssssssss him much\n",
              "1                       reading manga http plurk com mzp1e\n",
              "2        comeagainjen http twitpic com 2y2lx http www y...\n",
              "3        lapcat Need send accountant tomorrow Oddly was...\n",
              "4                      ADD MYSPACE myspace com LookThunder\n",
              "                               ...                        \n",
              "10309    Depression Herbo mood from now done stressing ...\n",
              "10310    What you when depression succumbs the brain an...\n",
              "10311    Ketamine Nasal Spray Shows Promise Against Dep...\n",
              "10312    dont mistake bad day with depression everyone has\n",
              "10313                                                     \n",
              "Name: message to examine, Length: 10314, dtype: object"
            ]
          },
          "metadata": {},
          "execution_count": 12
        }
      ]
    },
    {
      "cell_type": "code",
      "source": [
        "from nltk.stem import SnowballStemmer\n",
        "\n",
        "stemmer = SnowballStemmer('english')\n",
        "\n",
        "text = text.apply(lambda x : [stemmer.stem(i.lower()) for i in tk.tokenize(x)]).apply(lambda x : ' '.join(x))"
      ],
      "metadata": {
        "id": "oAXGpP34B7Md"
      },
      "execution_count": 13,
      "outputs": []
    },
    {
      "cell_type": "code",
      "source": [
        "text"
      ],
      "metadata": {
        "colab": {
          "base_uri": "https://localhost:8080/"
        },
        "id": "csXhfEF-B_Ak",
        "outputId": "54325def-3ed1-478d-dadf-be68ebf8838d"
      },
      "execution_count": 14,
      "outputs": [
        {
          "output_type": "execute_result",
          "data": {
            "text/plain": [
              "0          just had real good moment missssssssss him much\n",
              "1                         read manga http plurk com mzp 1e\n",
              "2        comeagainjen http twitpic com 2y2lx http www y...\n",
              "3        lapcat need send account tomorrow odd wasn eve...\n",
              "4                          add myspac myspac com lookthund\n",
              "                               ...                        \n",
              "10309    depress herbo mood from now done stress over p...\n",
              "10310    what you when depress succumb the brain and ma...\n",
              "10311    ketamin nasal spray show promis against depres...\n",
              "10312         dont mistak bad day with depress everyon has\n",
              "10313                                                     \n",
              "Name: message to examine, Length: 10314, dtype: object"
            ]
          },
          "metadata": {},
          "execution_count": 14
        }
      ]
    },
    {
      "cell_type": "code",
      "source": [
        "nltk.download('stopwords')"
      ],
      "metadata": {
        "id": "KPDZZVapCNgr",
        "colab": {
          "base_uri": "https://localhost:8080/"
        },
        "outputId": "c94cc27c-512d-4ec9-ead4-e36265955976"
      },
      "execution_count": 15,
      "outputs": [
        {
          "output_type": "stream",
          "name": "stderr",
          "text": [
            "[nltk_data] Downloading package stopwords to /root/nltk_data...\n",
            "[nltk_data]   Unzipping corpora/stopwords.zip.\n"
          ]
        },
        {
          "output_type": "execute_result",
          "data": {
            "text/plain": [
              "True"
            ]
          },
          "metadata": {},
          "execution_count": 15
        }
      ]
    },
    {
      "cell_type": "code",
      "source": [
        "from nltk.corpus import stopwords\n",
        "\n",
        "stop = stopwords.words('english')\n",
        "\n",
        "text = text.apply(lambda x :[i for i in word_tokenize(x) if i not in stop]).apply(lambda x:' '.join(x))"
      ],
      "metadata": {
        "id": "rUFtyTJD_ezH"
      },
      "execution_count": 16,
      "outputs": []
    },
    {
      "cell_type": "code",
      "source": [
        "text"
      ],
      "metadata": {
        "colab": {
          "base_uri": "https://localhost:8080/"
        },
        "id": "hs38THw9ANoQ",
        "outputId": "56b26cf6-7b13-4fa0-ca16-299d9940d147"
      },
      "execution_count": 17,
      "outputs": [
        {
          "output_type": "execute_result",
          "data": {
            "text/plain": [
              "0                       real good moment missssssssss much\n",
              "1                         read manga http plurk com mzp 1e\n",
              "2        comeagainjen http twitpic com 2y2lx http www y...\n",
              "3        lapcat need send account tomorrow odd even ref...\n",
              "4                          add myspac myspac com lookthund\n",
              "                               ...                        \n",
              "10309          depress herbo mood done stress peopl deserv\n",
              "10310    depress succumb brain make feel like never enough\n",
              "10311    ketamin nasal spray show promis depress suicid...\n",
              "10312                  dont mistak bad day depress everyon\n",
              "10313                                                     \n",
              "Name: message to examine, Length: 10314, dtype: object"
            ]
          },
          "metadata": {},
          "execution_count": 17
        }
      ]
    },
    {
      "cell_type": "code",
      "source": [
        "from sklearn.feature_extraction.text import TfidfVectorizer\n",
        "\n",
        "vec = TfidfVectorizer()\n",
        "\n",
        "train_data_vec = vec.fit_transform(text)"
      ],
      "metadata": {
        "id": "mipHBMg7AdeY"
      },
      "execution_count": 18,
      "outputs": []
    },
    {
      "cell_type": "code",
      "source": [
        "print(train_data_vec)"
      ],
      "metadata": {
        "colab": {
          "base_uri": "https://localhost:8080/"
        },
        "id": "kZsQA2WwBFhh",
        "outputId": "a8b46a46-bf5a-47f7-ad1b-132deb595330"
      },
      "execution_count": 19,
      "outputs": [
        {
          "output_type": "stream",
          "name": "stdout",
          "text": [
            "  (0, 11972)\t0.3308656896635815\n",
            "  (0, 11653)\t0.6664789134825422\n",
            "  (0, 11760)\t0.47516424735585633\n",
            "  (0, 7606)\t0.25960993354599604\n",
            "  (0, 14207)\t0.3913507042609722\n",
            "  (1, 327)\t0.49276308201303815\n",
            "  (1, 12106)\t0.49276308201303815\n",
            "  (1, 4599)\t0.1766245001829646\n",
            "  (1, 13521)\t0.3496755548074766\n",
            "  (1, 8541)\t0.1912647781355139\n",
            "  (1, 11030)\t0.49276308201303815\n",
            "  (1, 14200)\t0.28548592253386107\n",
            "  (2, 607)\t0.40156274938331676\n",
            "  (2, 19015)\t0.40156274938331676\n",
            "  (2, 18141)\t0.1925505399388701\n",
            "  (2, 18890)\t0.2645390998121607\n",
            "  (2, 18614)\t0.19652974259272796\n",
            "  (2, 674)\t0.40156274938331676\n",
            "  (2, 17509)\t0.2276527357980494\n",
            "  (2, 4605)\t0.37241150869357437\n",
            "  (2, 4599)\t0.2878698607540926\n",
            "  (2, 8541)\t0.31173118673794986\n",
            "  (3, 16983)\t0.23183737310840505\n",
            "  (3, 6520)\t0.3218377749492992\n",
            "  (3, 16410)\t0.2530330269558558\n",
            "  :\t:\n",
            "  (10310, 16304)\t0.5698836837707327\n",
            "  (10310, 5462)\t0.15619860113622247\n",
            "  (10310, 3509)\t0.41675089151732847\n",
            "  (10310, 6337)\t0.38972157483187514\n",
            "  (10310, 12304)\t0.32815334651555794\n",
            "  (10310, 6769)\t0.28283508164424764\n",
            "  (10310, 10979)\t0.28059048582357615\n",
            "  (10310, 10465)\t0.24260884058971016\n",
            "  (10311, 943)\t0.40644024083353036\n",
            "  (10311, 4518)\t0.3674363298183382\n",
            "  (10311, 12179)\t0.3769349211674743\n",
            "  (10311, 9856)\t0.35311365610820084\n",
            "  (10311, 16333)\t0.2515984619650866\n",
            "  (10311, 5462)\t0.1066699892758836\n",
            "  (10311, 8098)\t0.23547414841880326\n",
            "  (10311, 16006)\t0.35967541559104105\n",
            "  (10311, 8542)\t0.1757033607017036\n",
            "  (10311, 13814)\t0.30247641895691435\n",
            "  (10311, 15465)\t0.226206274048369\n",
            "  (10312, 5462)\t0.19010512949744532\n",
            "  (10312, 11658)\t0.5884225663477576\n",
            "  (10312, 2752)\t0.4196573355105594\n",
            "  (10312, 6514)\t0.38776718079759903\n",
            "  (10312, 5843)\t0.45795551453948924\n",
            "  (10312, 5282)\t0.2853419073722084\n"
          ]
        }
      ]
    },
    {
      "cell_type": "code",
      "source": [
        "train_data_vec.shape"
      ],
      "metadata": {
        "colab": {
          "base_uri": "https://localhost:8080/"
        },
        "id": "o6MBg_voBW5L",
        "outputId": "e2d8ddc4-5633-48d9-f0c2-f065631b32b9"
      },
      "execution_count": 20,
      "outputs": [
        {
          "output_type": "execute_result",
          "data": {
            "text/plain": [
              "(10314, 19040)"
            ]
          },
          "metadata": {},
          "execution_count": 20
        }
      ]
    },
    {
      "cell_type": "code",
      "source": [
        "y = df['label (depression result)'].values"
      ],
      "metadata": {
        "id": "BIaGbG5xBZoO"
      },
      "execution_count": 21,
      "outputs": []
    },
    {
      "cell_type": "code",
      "source": [
        "y"
      ],
      "metadata": {
        "colab": {
          "base_uri": "https://localhost:8080/"
        },
        "id": "NhLKjrpwBn1d",
        "outputId": "7ae2616e-c935-483f-8274-6542fc561300"
      },
      "execution_count": 22,
      "outputs": [
        {
          "output_type": "execute_result",
          "data": {
            "text/plain": [
              "array([0, 0, 0, ..., 1, 1, 1])"
            ]
          },
          "metadata": {},
          "execution_count": 22
        }
      ]
    },
    {
      "cell_type": "code",
      "source": [
        "from sklearn.model_selection import train_test_split\n",
        "xtrain,xtest,ytrain,ytest = train_test_split(train_data_vec,y,test_size=0.2,random_state=0)"
      ],
      "metadata": {
        "id": "BIFrDCFqBoPI"
      },
      "execution_count": 23,
      "outputs": []
    },
    {
      "cell_type": "code",
      "source": [
        "from sklearn.linear_model import LogisticRegression\n",
        "model = LogisticRegression()"
      ],
      "metadata": {
        "id": "317EC8npCK3L"
      },
      "execution_count": 24,
      "outputs": []
    },
    {
      "cell_type": "code",
      "source": [
        "model.fit(xtrain,ytrain)"
      ],
      "metadata": {
        "colab": {
          "base_uri": "https://localhost:8080/",
          "height": 74
        },
        "id": "Dh4rG2wiCYYN",
        "outputId": "4cdd7cd1-1035-4a79-9340-d051cb262fce"
      },
      "execution_count": 25,
      "outputs": [
        {
          "output_type": "execute_result",
          "data": {
            "text/plain": [
              "LogisticRegression()"
            ],
            "text/html": [
              "<style>#sk-container-id-1 {color: black;background-color: white;}#sk-container-id-1 pre{padding: 0;}#sk-container-id-1 div.sk-toggleable {background-color: white;}#sk-container-id-1 label.sk-toggleable__label {cursor: pointer;display: block;width: 100%;margin-bottom: 0;padding: 0.3em;box-sizing: border-box;text-align: center;}#sk-container-id-1 label.sk-toggleable__label-arrow:before {content: \"▸\";float: left;margin-right: 0.25em;color: #696969;}#sk-container-id-1 label.sk-toggleable__label-arrow:hover:before {color: black;}#sk-container-id-1 div.sk-estimator:hover label.sk-toggleable__label-arrow:before {color: black;}#sk-container-id-1 div.sk-toggleable__content {max-height: 0;max-width: 0;overflow: hidden;text-align: left;background-color: #f0f8ff;}#sk-container-id-1 div.sk-toggleable__content pre {margin: 0.2em;color: black;border-radius: 0.25em;background-color: #f0f8ff;}#sk-container-id-1 input.sk-toggleable__control:checked~div.sk-toggleable__content {max-height: 200px;max-width: 100%;overflow: auto;}#sk-container-id-1 input.sk-toggleable__control:checked~label.sk-toggleable__label-arrow:before {content: \"▾\";}#sk-container-id-1 div.sk-estimator input.sk-toggleable__control:checked~label.sk-toggleable__label {background-color: #d4ebff;}#sk-container-id-1 div.sk-label input.sk-toggleable__control:checked~label.sk-toggleable__label {background-color: #d4ebff;}#sk-container-id-1 input.sk-hidden--visually {border: 0;clip: rect(1px 1px 1px 1px);clip: rect(1px, 1px, 1px, 1px);height: 1px;margin: -1px;overflow: hidden;padding: 0;position: absolute;width: 1px;}#sk-container-id-1 div.sk-estimator {font-family: monospace;background-color: #f0f8ff;border: 1px dotted black;border-radius: 0.25em;box-sizing: border-box;margin-bottom: 0.5em;}#sk-container-id-1 div.sk-estimator:hover {background-color: #d4ebff;}#sk-container-id-1 div.sk-parallel-item::after {content: \"\";width: 100%;border-bottom: 1px solid gray;flex-grow: 1;}#sk-container-id-1 div.sk-label:hover label.sk-toggleable__label {background-color: #d4ebff;}#sk-container-id-1 div.sk-serial::before {content: \"\";position: absolute;border-left: 1px solid gray;box-sizing: border-box;top: 0;bottom: 0;left: 50%;z-index: 0;}#sk-container-id-1 div.sk-serial {display: flex;flex-direction: column;align-items: center;background-color: white;padding-right: 0.2em;padding-left: 0.2em;position: relative;}#sk-container-id-1 div.sk-item {position: relative;z-index: 1;}#sk-container-id-1 div.sk-parallel {display: flex;align-items: stretch;justify-content: center;background-color: white;position: relative;}#sk-container-id-1 div.sk-item::before, #sk-container-id-1 div.sk-parallel-item::before {content: \"\";position: absolute;border-left: 1px solid gray;box-sizing: border-box;top: 0;bottom: 0;left: 50%;z-index: -1;}#sk-container-id-1 div.sk-parallel-item {display: flex;flex-direction: column;z-index: 1;position: relative;background-color: white;}#sk-container-id-1 div.sk-parallel-item:first-child::after {align-self: flex-end;width: 50%;}#sk-container-id-1 div.sk-parallel-item:last-child::after {align-self: flex-start;width: 50%;}#sk-container-id-1 div.sk-parallel-item:only-child::after {width: 0;}#sk-container-id-1 div.sk-dashed-wrapped {border: 1px dashed gray;margin: 0 0.4em 0.5em 0.4em;box-sizing: border-box;padding-bottom: 0.4em;background-color: white;}#sk-container-id-1 div.sk-label label {font-family: monospace;font-weight: bold;display: inline-block;line-height: 1.2em;}#sk-container-id-1 div.sk-label-container {text-align: center;}#sk-container-id-1 div.sk-container {/* jupyter's `normalize.less` sets `[hidden] { display: none; }` but bootstrap.min.css set `[hidden] { display: none !important; }` so we also need the `!important` here to be able to override the default hidden behavior on the sphinx rendered scikit-learn.org. See: https://github.com/scikit-learn/scikit-learn/issues/21755 */display: inline-block !important;position: relative;}#sk-container-id-1 div.sk-text-repr-fallback {display: none;}</style><div id=\"sk-container-id-1\" class=\"sk-top-container\"><div class=\"sk-text-repr-fallback\"><pre>LogisticRegression()</pre><b>In a Jupyter environment, please rerun this cell to show the HTML representation or trust the notebook. <br />On GitHub, the HTML representation is unable to render, please try loading this page with nbviewer.org.</b></div><div class=\"sk-container\" hidden><div class=\"sk-item\"><div class=\"sk-estimator sk-toggleable\"><input class=\"sk-toggleable__control sk-hidden--visually\" id=\"sk-estimator-id-1\" type=\"checkbox\" checked><label for=\"sk-estimator-id-1\" class=\"sk-toggleable__label sk-toggleable__label-arrow\">LogisticRegression</label><div class=\"sk-toggleable__content\"><pre>LogisticRegression()</pre></div></div></div></div></div>"
            ]
          },
          "metadata": {},
          "execution_count": 25
        }
      ]
    },
    {
      "cell_type": "code",
      "source": [
        "x_pred = model.predict(xtrain)"
      ],
      "metadata": {
        "id": "1y-84pKgCc4G"
      },
      "execution_count": 26,
      "outputs": []
    },
    {
      "cell_type": "code",
      "source": [
        "from sklearn.metrics import accuracy_score\n",
        "accuracy = accuracy_score(x_pred,ytrain)"
      ],
      "metadata": {
        "id": "VeO7IOwyCjzK"
      },
      "execution_count": 27,
      "outputs": []
    },
    {
      "cell_type": "code",
      "source": [
        "accuracy"
      ],
      "metadata": {
        "colab": {
          "base_uri": "https://localhost:8080/"
        },
        "id": "JWycHo-rCyiP",
        "outputId": "0fc97901-4434-4fd7-9f9a-4e894556826d"
      },
      "execution_count": 28,
      "outputs": [
        {
          "output_type": "execute_result",
          "data": {
            "text/plain": [
              "0.992000969579445"
            ]
          },
          "metadata": {},
          "execution_count": 28
        }
      ]
    },
    {
      "cell_type": "code",
      "source": [
        "x_test_pred = model.predict(xtest)\n",
        "test_accuracy = accuracy_score(x_test_pred,ytest)\n",
        "test_accuracy"
      ],
      "metadata": {
        "colab": {
          "base_uri": "https://localhost:8080/"
        },
        "id": "69Frk_WzC2Jn",
        "outputId": "242b1948-c05a-4e4a-f774-d0a0a1150334"
      },
      "execution_count": 29,
      "outputs": [
        {
          "output_type": "execute_result",
          "data": {
            "text/plain": [
              "0.9801260300533204"
            ]
          },
          "metadata": {},
          "execution_count": 29
        }
      ]
    },
    {
      "cell_type": "code",
      "source": [
        "text = 'just had a real good moment misssssss him so much'"
      ],
      "metadata": {
        "id": "Sslf0JyADero"
      },
      "execution_count": 30,
      "outputs": []
    },
    {
      "cell_type": "code",
      "source": [
        "import numpy as np"
      ],
      "metadata": {
        "id": "NpPb705cDm6t"
      },
      "execution_count": 31,
      "outputs": []
    },
    {
      "cell_type": "code",
      "source": [
        "model.predict(vec.transform(np.array([text])))"
      ],
      "metadata": {
        "colab": {
          "base_uri": "https://localhost:8080/"
        },
        "id": "sFSNvY36DpL3",
        "outputId": "ab731830-0ebd-43c9-a61b-7c9ac19e2451"
      },
      "execution_count": 32,
      "outputs": [
        {
          "output_type": "execute_result",
          "data": {
            "text/plain": [
              "array([0])"
            ]
          },
          "metadata": {},
          "execution_count": 32
        }
      ]
    },
    {
      "cell_type": "code",
      "source": [],
      "metadata": {
        "id": "1y5ebWeQHpml"
      },
      "execution_count": 32,
      "outputs": []
    }
  ]
}